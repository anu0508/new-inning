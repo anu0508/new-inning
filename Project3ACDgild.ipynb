{
  "nbformat": 4,
  "nbformat_minor": 0,
  "metadata": {
    "colab": {
      "name": "Project3ACDgild",
      "version": "0.3.2",
      "provenance": [],
      "include_colab_link": true
    },
    "kernelspec": {
      "name": "python3",
      "display_name": "Python 3"
    }
  },
  "cells": [
    {
      "cell_type": "markdown",
      "metadata": {
        "id": "view-in-github",
        "colab_type": "text"
      },
      "source": [
        "[View in Colaboratory](https://colab.research.google.com/github/anu0508/new-inning/blob/master/Project3ACDgild.ipynb)"
      ]
    },
    {
      "metadata": {
        "id": "AvWi0q4PUNkX",
        "colab_type": "code",
        "colab": {}
      },
      "cell_type": "code",
      "source": [
        "import numpy as np\n",
        "import xgboost as xgb\n",
        "import pandas as pd\n",
        "import matplotlib.pyplot as plt\n",
        "from sklearn.preprocessing import LabelEncoder\n",
        "%matplotlib inline"
      ],
      "execution_count": 0,
      "outputs": []
    },
    {
      "metadata": {
        "id": "QYKNfFNEU5SL",
        "colab_type": "code",
        "colab": {}
      },
      "cell_type": "code",
      "source": [
        "test_set =pd.read_csv('http://archive.ics.uci.edu/ml/machine-learning-databases/adult/adult.test', skiprows = 1, header = None)\n"
      ],
      "execution_count": 0,
      "outputs": []
    },
    {
      "metadata": {
        "id": "sXhgFfx1VElV",
        "colab_type": "code",
        "colab": {}
      },
      "cell_type": "code",
      "source": [
        "\n",
        "train_set =pd.read_csv('http://archive.ics.uci.edu/ml/machine-learning-databases/adult/adult.data', header = None)"
      ],
      "execution_count": 0,
      "outputs": []
    },
    {
      "metadata": {
        "id": "M4-tUOQrVLFU",
        "colab_type": "code",
        "colab": {}
      },
      "cell_type": "code",
      "source": [
        "col_labels = ['age', 'workclass', 'fnlwgt', 'education', 'education_num', 'marital_status','occupation','relationship', 'race', 'sex', 'capital_gain', 'capital_loss', 'hours_per_week','native_country', 'wage_class']\n"
      ],
      "execution_count": 0,
      "outputs": []
    },
    {
      "metadata": {
        "id": "jw_uvdQYVqNM",
        "colab_type": "code",
        "colab": {}
      },
      "cell_type": "code",
      "source": [
        "\n",
        "train_set.columns = col_labels\n",
        "test_set.columns = col_labels"
      ],
      "execution_count": 0,
      "outputs": []
    },
    {
      "metadata": {
        "id": "IFVWl15GVvbP",
        "colab_type": "code",
        "colab": {
          "base_uri": "https://localhost:8080/",
          "height": 187
        },
        "outputId": "2c5ac9a7-8b3d-4334-8269-25b1e09f993a"
      },
      "cell_type": "code",
      "source": [
        "train_set['workclass'].value_counts()"
      ],
      "execution_count": 6,
      "outputs": [
        {
          "output_type": "execute_result",
          "data": {
            "text/plain": [
              " Private             22696\n",
              " Self-emp-not-inc     2541\n",
              " Local-gov            2093\n",
              " ?                    1836\n",
              " State-gov            1298\n",
              " Self-emp-inc         1116\n",
              " Federal-gov           960\n",
              " Without-pay            14\n",
              " Never-worked            7\n",
              "Name: workclass, dtype: int64"
            ]
          },
          "metadata": {
            "tags": []
          },
          "execution_count": 6
        }
      ]
    },
    {
      "metadata": {
        "id": "kc_b09oJV5je",
        "colab_type": "code",
        "colab": {
          "base_uri": "https://localhost:8080/",
          "height": 306
        },
        "outputId": "a5b636a9-074f-4fca-a1b5-81a048f6538c"
      },
      "cell_type": "code",
      "source": [
        "train_set['education'].value_counts()"
      ],
      "execution_count": 7,
      "outputs": [
        {
          "output_type": "execute_result",
          "data": {
            "text/plain": [
              " HS-grad         10501\n",
              " Some-college     7291\n",
              " Bachelors        5355\n",
              " Masters          1723\n",
              " Assoc-voc        1382\n",
              " 11th             1175\n",
              " Assoc-acdm       1067\n",
              " 10th              933\n",
              " 7th-8th           646\n",
              " Prof-school       576\n",
              " 9th               514\n",
              " 12th              433\n",
              " Doctorate         413\n",
              " 5th-6th           333\n",
              " 1st-4th           168\n",
              " Preschool          51\n",
              "Name: education, dtype: int64"
            ]
          },
          "metadata": {
            "tags": []
          },
          "execution_count": 7
        }
      ]
    },
    {
      "metadata": {
        "id": "flJXHtkhWFnx",
        "colab_type": "code",
        "colab": {
          "base_uri": "https://localhost:8080/",
          "height": 153
        },
        "outputId": "9ec04819-b61c-489f-fed5-f70619c99b82"
      },
      "cell_type": "code",
      "source": [
        "train_set['marital_status'].value_counts()"
      ],
      "execution_count": 8,
      "outputs": [
        {
          "output_type": "execute_result",
          "data": {
            "text/plain": [
              " Married-civ-spouse       14976\n",
              " Never-married            10683\n",
              " Divorced                  4443\n",
              " Separated                 1025\n",
              " Widowed                    993\n",
              " Married-spouse-absent      418\n",
              " Married-AF-spouse           23\n",
              "Name: marital_status, dtype: int64"
            ]
          },
          "metadata": {
            "tags": []
          },
          "execution_count": 8
        }
      ]
    },
    {
      "metadata": {
        "id": "h1Kk0e42YGLO",
        "colab_type": "code",
        "colab": {
          "base_uri": "https://localhost:8080/",
          "height": 34
        },
        "outputId": "60b55f6f-3108-4d74-cbc4-1d8e3ea67b0f"
      },
      "cell_type": "code",
      "source": [
        "train_set.shape #"
      ],
      "execution_count": 9,
      "outputs": [
        {
          "output_type": "execute_result",
          "data": {
            "text/plain": [
              "(32561, 15)"
            ]
          },
          "metadata": {
            "tags": []
          },
          "execution_count": 9
        }
      ]
    },
    {
      "metadata": {
        "id": "O_vwlIorYQox",
        "colab_type": "code",
        "colab": {
          "base_uri": "https://localhost:8080/",
          "height": 34
        },
        "outputId": "84b93e1a-2bc5-42e0-a626-b65dd9dcc31e"
      },
      "cell_type": "code",
      "source": [
        "test_set.shape #"
      ],
      "execution_count": 10,
      "outputs": [
        {
          "output_type": "execute_result",
          "data": {
            "text/plain": [
              "(16281, 15)"
            ]
          },
          "metadata": {
            "tags": []
          },
          "execution_count": 10
        }
      ]
    },
    {
      "metadata": {
        "id": "dJ85o9uI2uZ6",
        "colab_type": "code",
        "colab": {}
      },
      "cell_type": "code",
      "source": [
        "train_set['data_id']= 1 #before conacating data on axis=0 we are creating a column with 1 and 0. train set id will 1 and test 0. so that later on we can remove "
      ],
      "execution_count": 0,
      "outputs": []
    },
    {
      "metadata": {
        "id": "LWvLDTON25Ya",
        "colab_type": "code",
        "colab": {}
      },
      "cell_type": "code",
      "source": [
        "test_set['data_id']= 0"
      ],
      "execution_count": 0,
      "outputs": []
    },
    {
      "metadata": {
        "id": "WjX8phW428Wt",
        "colab_type": "code",
        "colab": {
          "base_uri": "https://localhost:8080/",
          "height": 34
        },
        "outputId": "07db0a01-396b-4ce4-c33a-d75fc5dde2f3"
      },
      "cell_type": "code",
      "source": [
        "train_set.shape"
      ],
      "execution_count": 13,
      "outputs": [
        {
          "output_type": "execute_result",
          "data": {
            "text/plain": [
              "(32561, 16)"
            ]
          },
          "metadata": {
            "tags": []
          },
          "execution_count": 13
        }
      ]
    },
    {
      "metadata": {
        "id": "7SJYeSVo2_LW",
        "colab_type": "code",
        "colab": {}
      },
      "cell_type": "code",
      "source": [
        "#combine data\n",
        "total_set=train_set.append(test_set)"
      ],
      "execution_count": 0,
      "outputs": []
    },
    {
      "metadata": {
        "id": "_Zfp9hzm3B7m",
        "colab_type": "code",
        "colab": {
          "base_uri": "https://localhost:8080/",
          "height": 102
        },
        "outputId": "654d3c93-f47d-4a22-b83c-5c7e365e5016"
      },
      "cell_type": "code",
      "source": [
        "\n",
        "total_set['wage_class'].value_counts()"
      ],
      "execution_count": 15,
      "outputs": [
        {
          "output_type": "execute_result",
          "data": {
            "text/plain": [
              " <=50K     24720\n",
              " <=50K.    12435\n",
              " >50K       7841\n",
              " >50K.      3846\n",
              "Name: wage_class, dtype: int64"
            ]
          },
          "metadata": {
            "tags": []
          },
          "execution_count": 15
        }
      ]
    },
    {
      "metadata": {
        "id": "_MKSa46q3GK9",
        "colab_type": "code",
        "colab": {}
      },
      "cell_type": "code",
      "source": [
        "\n",
        "import numpy as np\n",
        "df1= total_set.replace({' ?':np.nan})"
      ],
      "execution_count": 0,
      "outputs": []
    },
    {
      "metadata": {
        "id": "h88Ty3AI3IKM",
        "colab_type": "code",
        "colab": {
          "base_uri": "https://localhost:8080/",
          "height": 306
        },
        "outputId": "21012532-74a7-4653-c3f9-5abe5cb588de"
      },
      "cell_type": "code",
      "source": [
        "df1.isnull().sum()"
      ],
      "execution_count": 17,
      "outputs": [
        {
          "output_type": "execute_result",
          "data": {
            "text/plain": [
              "age                  0\n",
              "workclass         2799\n",
              "fnlwgt               0\n",
              "education            0\n",
              "education_num        0\n",
              "marital_status       0\n",
              "occupation        2809\n",
              "relationship         0\n",
              "race                 0\n",
              "sex                  0\n",
              "capital_gain         0\n",
              "capital_loss         0\n",
              "hours_per_week       0\n",
              "native_country     857\n",
              "wage_class           0\n",
              "data_id              0\n",
              "dtype: int64"
            ]
          },
          "metadata": {
            "tags": []
          },
          "execution_count": 17
        }
      ]
    },
    {
      "metadata": {
        "id": "eRT_Jb223KlE",
        "colab_type": "code",
        "colab": {}
      },
      "cell_type": "code",
      "source": [
        "#fillna with unknown\n",
        "df1.fillna('unknown', inplace=True)"
      ],
      "execution_count": 0,
      "outputs": []
    },
    {
      "metadata": {
        "id": "FfyaQfpm3PEU",
        "colab_type": "code",
        "colab": {
          "base_uri": "https://localhost:8080/",
          "height": 306
        },
        "outputId": "92c3a341-6f54-4a49-ba70-3f8b7890b8c6"
      },
      "cell_type": "code",
      "source": [
        "df1.isnull().sum() #no of nan to check if nan are replaced with unknown"
      ],
      "execution_count": 19,
      "outputs": [
        {
          "output_type": "execute_result",
          "data": {
            "text/plain": [
              "age               0\n",
              "workclass         0\n",
              "fnlwgt            0\n",
              "education         0\n",
              "education_num     0\n",
              "marital_status    0\n",
              "occupation        0\n",
              "relationship      0\n",
              "race              0\n",
              "sex               0\n",
              "capital_gain      0\n",
              "capital_loss      0\n",
              "hours_per_week    0\n",
              "native_country    0\n",
              "wage_class        0\n",
              "data_id           0\n",
              "dtype: int64"
            ]
          },
          "metadata": {
            "tags": []
          },
          "execution_count": 19
        }
      ]
    },
    {
      "metadata": {
        "id": "iqM2tPd63RQW",
        "colab_type": "code",
        "colab": {
          "base_uri": "https://localhost:8080/",
          "height": 187
        },
        "outputId": "5e3caa64-006f-4a3f-e768-71c8754700be"
      },
      "cell_type": "code",
      "source": [
        "df1['workclass'].value_counts()"
      ],
      "execution_count": 20,
      "outputs": [
        {
          "output_type": "execute_result",
          "data": {
            "text/plain": [
              " Private             33906\n",
              " Self-emp-not-inc     3862\n",
              " Local-gov            3136\n",
              "unknown               2799\n",
              " State-gov            1981\n",
              " Self-emp-inc         1695\n",
              " Federal-gov          1432\n",
              " Without-pay            21\n",
              " Never-worked           10\n",
              "Name: workclass, dtype: int64"
            ]
          },
          "metadata": {
            "tags": []
          },
          "execution_count": 20
        }
      ]
    },
    {
      "metadata": {
        "id": "Vs7TJZuc3Uzv",
        "colab_type": "code",
        "colab": {
          "base_uri": "https://localhost:8080/",
          "height": 34
        },
        "outputId": "87dd963f-6484-4c59-d80b-dc518598a493"
      },
      "cell_type": "code",
      "source": [
        "df1['wage_class'].unique()"
      ],
      "execution_count": 21,
      "outputs": [
        {
          "output_type": "execute_result",
          "data": {
            "text/plain": [
              "array([' <=50K', ' >50K', ' <=50K.', ' >50K.'], dtype=object)"
            ]
          },
          "metadata": {
            "tags": []
          },
          "execution_count": 21
        }
      ]
    },
    {
      "metadata": {
        "id": "3cAhGz-K3ZnS",
        "colab_type": "code",
        "colab": {}
      },
      "cell_type": "code",
      "source": [
        "df1['Target']=0\n",
        "df1.loc[df1['wage_class']==' >50K','Target']=1\n",
        "df1.loc[df1['wage_class']==' >50K.','Target']=1"
      ],
      "execution_count": 0,
      "outputs": []
    },
    {
      "metadata": {
        "id": "2sQ7MqZy3gwH",
        "colab_type": "code",
        "colab": {
          "base_uri": "https://localhost:8080/",
          "height": 68
        },
        "outputId": "25e5eec8-e15f-4693-c4dc-0e1064c5b94e"
      },
      "cell_type": "code",
      "source": [
        "df1.Target.value_counts()"
      ],
      "execution_count": 23,
      "outputs": [
        {
          "output_type": "execute_result",
          "data": {
            "text/plain": [
              "0    37155\n",
              "1    11687\n",
              "Name: Target, dtype: int64"
            ]
          },
          "metadata": {
            "tags": []
          },
          "execution_count": 23
        }
      ]
    },
    {
      "metadata": {
        "id": "WnMWEa2p3iZG",
        "colab_type": "code",
        "colab": {}
      },
      "cell_type": "code",
      "source": [
        "### copy of the df1"
      ],
      "execution_count": 0,
      "outputs": []
    },
    {
      "metadata": {
        "id": "UA0AKajI3qFS",
        "colab_type": "code",
        "colab": {}
      },
      "cell_type": "code",
      "source": [
        "df2= df1.copy()"
      ],
      "execution_count": 0,
      "outputs": []
    },
    {
      "metadata": {
        "id": "JUWMTB9X3tjg",
        "colab_type": "code",
        "colab": {
          "base_uri": "https://localhost:8080/",
          "height": 34
        },
        "outputId": "932be5a4-3570-4628-dc00-690795669d24"
      },
      "cell_type": "code",
      "source": [
        "df2.shape"
      ],
      "execution_count": 26,
      "outputs": [
        {
          "output_type": "execute_result",
          "data": {
            "text/plain": [
              "(48842, 17)"
            ]
          },
          "metadata": {
            "tags": []
          },
          "execution_count": 26
        }
      ]
    },
    {
      "metadata": {
        "id": "etJLCFoD3v5O",
        "colab_type": "code",
        "colab": {
          "base_uri": "https://localhost:8080/",
          "height": 68
        },
        "outputId": "37b7729f-e02d-487f-91af-6862724ba83c"
      },
      "cell_type": "code",
      "source": [
        "df2.Target.value_counts()"
      ],
      "execution_count": 27,
      "outputs": [
        {
          "output_type": "execute_result",
          "data": {
            "text/plain": [
              "0    37155\n",
              "1    11687\n",
              "Name: Target, dtype: int64"
            ]
          },
          "metadata": {
            "tags": []
          },
          "execution_count": 27
        }
      ]
    },
    {
      "metadata": {
        "id": "StTXXuqM3xcM",
        "colab_type": "code",
        "colab": {}
      },
      "cell_type": "code",
      "source": [
        "\n",
        "df2.loc[df2['workclass']==' Without -pay','work_class']='not_working'\n",
        "df2.loc[df2['workclass']==' Never-worked','work_class']='not_working'\n",
        "\n",
        "df2.loc[df2['workclass']==' Local-gov','work_class']='Gov_job'\n",
        "df2.loc[df2['workclass']==' State-gov','work_class']='Gov_job'\n",
        "df2.loc[df2['workclass']==' Federal-gov','work_class']='Gov_job'\n",
        "\n",
        "df2.loc[df2['workclass']==' Self-emp-inc','work_class']='self_emp'\n",
        "df2.loc[df2['workclass']==' Self-emp-not-inc','work_class']='self_emp'\n",
        "\n",
        "df2.loc[df2['workclass']==' Private','work_class']='Private'\n",
        "\n",
        "df2.loc[df2['workclass']=='unknown','work_class']='unknown'\n",
        "\n"
      ],
      "execution_count": 0,
      "outputs": []
    },
    {
      "metadata": {
        "id": "rGMqvjP130qT",
        "colab_type": "code",
        "colab": {
          "base_uri": "https://localhost:8080/",
          "height": 119
        },
        "outputId": "98dc762a-16be-4928-e7a4-417638848c27"
      },
      "cell_type": "code",
      "source": [
        "df2.work_class.value_counts()"
      ],
      "execution_count": 29,
      "outputs": [
        {
          "output_type": "execute_result",
          "data": {
            "text/plain": [
              "Private        33906\n",
              "Gov_job         6549\n",
              "self_emp        5557\n",
              "unknown         2799\n",
              "not_working       10\n",
              "Name: work_class, dtype: int64"
            ]
          },
          "metadata": {
            "tags": []
          },
          "execution_count": 29
        }
      ]
    },
    {
      "metadata": {
        "id": "jJhZNwJe36Hs",
        "colab_type": "code",
        "colab": {
          "base_uri": "https://localhost:8080/",
          "height": 153
        },
        "outputId": "dd7be399-576d-493e-a0ec-e5121e1e2b0a"
      },
      "cell_type": "code",
      "source": [
        "df2.marital_status.value_counts()"
      ],
      "execution_count": 30,
      "outputs": [
        {
          "output_type": "execute_result",
          "data": {
            "text/plain": [
              " Married-civ-spouse       22379\n",
              " Never-married            16117\n",
              " Divorced                  6633\n",
              " Separated                 1530\n",
              " Widowed                   1518\n",
              " Married-spouse-absent      628\n",
              " Married-AF-spouse           37\n",
              "Name: marital_status, dtype: int64"
            ]
          },
          "metadata": {
            "tags": []
          },
          "execution_count": 30
        }
      ]
    },
    {
      "metadata": {
        "id": "Bn_56MV23_x2",
        "colab_type": "code",
        "colab": {}
      },
      "cell_type": "code",
      "source": [
        "df2['Marital_status']='Married'\n",
        "\n",
        "df2.loc[df2['marital_status']==' Never-married','Marital_status']='Single'\n",
        "\n",
        "df2.loc[df2['marital_status']==' Divorced','Marital_status']='Separated'\n",
        "df2.loc[df2['marital_status']==' Separated','Marital_status']='Separated'\n",
        "df2.loc[df2['marital_status']==' Widowed','Marital_status']='Separated'\n",
        "df2.loc[df2['marital_status']==' Married-spouse-absent','Marital_status']='Separated'\n",
        "\n"
      ],
      "execution_count": 0,
      "outputs": []
    },
    {
      "metadata": {
        "id": "uSptQhF34CXM",
        "colab_type": "code",
        "colab": {
          "base_uri": "https://localhost:8080/",
          "height": 85
        },
        "outputId": "b66a78ae-aff0-488c-86ee-9dd236925696"
      },
      "cell_type": "code",
      "source": [
        "df2['Marital_status'].value_counts()"
      ],
      "execution_count": 32,
      "outputs": [
        {
          "output_type": "execute_result",
          "data": {
            "text/plain": [
              "Married      22416\n",
              "Single       16117\n",
              "Separated    10309\n",
              "Name: Marital_status, dtype: int64"
            ]
          },
          "metadata": {
            "tags": []
          },
          "execution_count": 32
        }
      ]
    },
    {
      "metadata": {
        "id": "2C1pGb_X4E2b",
        "colab_type": "code",
        "colab": {}
      },
      "cell_type": "code",
      "source": [
        "#Education"
      ],
      "execution_count": 0,
      "outputs": []
    },
    {
      "metadata": {
        "id": "gp1u5KuW4JUE",
        "colab_type": "code",
        "colab": {
          "base_uri": "https://localhost:8080/",
          "height": 306
        },
        "outputId": "43f982f9-e6d2-4aca-f986-0d99b7be0279"
      },
      "cell_type": "code",
      "source": [
        "df2['education'].value_counts()"
      ],
      "execution_count": 34,
      "outputs": [
        {
          "output_type": "execute_result",
          "data": {
            "text/plain": [
              " HS-grad         15784\n",
              " Some-college    10878\n",
              " Bachelors        8025\n",
              " Masters          2657\n",
              " Assoc-voc        2061\n",
              " 11th             1812\n",
              " Assoc-acdm       1601\n",
              " 10th             1389\n",
              " 7th-8th           955\n",
              " Prof-school       834\n",
              " 9th               756\n",
              " 12th              657\n",
              " Doctorate         594\n",
              " 5th-6th           509\n",
              " 1st-4th           247\n",
              " Preschool          83\n",
              "Name: education, dtype: int64"
            ]
          },
          "metadata": {
            "tags": []
          },
          "execution_count": 34
        }
      ]
    },
    {
      "metadata": {
        "id": "6RzCC_r74My5",
        "colab_type": "code",
        "colab": {}
      },
      "cell_type": "code",
      "source": [
        "df2['Eductaion']='<HS grad'"
      ],
      "execution_count": 0,
      "outputs": []
    },
    {
      "metadata": {
        "id": "HvPJCQin4Pb4",
        "colab_type": "code",
        "colab": {}
      },
      "cell_type": "code",
      "source": [
        "edu_cat=[' Some-college',' Bachelors']"
      ],
      "execution_count": 0,
      "outputs": []
    },
    {
      "metadata": {
        "id": "QZ178FDg4VWL",
        "colab_type": "code",
        "colab": {}
      },
      "cell_type": "code",
      "source": [
        "\n",
        "for cat in edu_cat:\n",
        "    df2.loc[df2['education']==cat,'Eductaion']='Bachelors'\n",
        "    "
      ],
      "execution_count": 0,
      "outputs": []
    },
    {
      "metadata": {
        "id": "CNM97dnE4XXr",
        "colab_type": "code",
        "colab": {}
      },
      "cell_type": "code",
      "source": [
        "\n",
        "df2.loc[df2['education']==' Doctorate','Eductaion']='>=Masters'\n",
        "df2.loc[df2['education']==' Masters','Eductaion']='>=Masters'"
      ],
      "execution_count": 0,
      "outputs": []
    },
    {
      "metadata": {
        "id": "EMhc7oPE4a6-",
        "colab_type": "code",
        "colab": {
          "base_uri": "https://localhost:8080/",
          "height": 85
        },
        "outputId": "90438206-6972-4180-c8f0-53ec82273a05"
      },
      "cell_type": "code",
      "source": [
        "df2.Eductaion.value_counts()"
      ],
      "execution_count": 39,
      "outputs": [
        {
          "output_type": "execute_result",
          "data": {
            "text/plain": [
              "<HS grad     26688\n",
              "Bachelors    18903\n",
              ">=Masters     3251\n",
              "Name: Eductaion, dtype: int64"
            ]
          },
          "metadata": {
            "tags": []
          },
          "execution_count": 39
        }
      ]
    },
    {
      "metadata": {
        "id": "a7X2rv9o4d-L",
        "colab_type": "code",
        "colab": {}
      },
      "cell_type": "code",
      "source": [
        "### Occupation"
      ],
      "execution_count": 0,
      "outputs": []
    },
    {
      "metadata": {
        "id": "XPADWOBP4g6v",
        "colab_type": "code",
        "colab": {
          "base_uri": "https://localhost:8080/",
          "height": 289
        },
        "outputId": "62dec561-ea03-4949-893b-1cbf98476e7c"
      },
      "cell_type": "code",
      "source": [
        "df2['occupation'].value_counts()"
      ],
      "execution_count": 41,
      "outputs": [
        {
          "output_type": "execute_result",
          "data": {
            "text/plain": [
              " Prof-specialty       6172\n",
              " Craft-repair         6112\n",
              " Exec-managerial      6086\n",
              " Adm-clerical         5611\n",
              " Sales                5504\n",
              " Other-service        4923\n",
              " Machine-op-inspct    3022\n",
              "unknown               2809\n",
              " Transport-moving     2355\n",
              " Handlers-cleaners    2072\n",
              " Farming-fishing      1490\n",
              " Tech-support         1446\n",
              " Protective-serv       983\n",
              " Priv-house-serv       242\n",
              " Armed-Forces           15\n",
              "Name: occupation, dtype: int64"
            ]
          },
          "metadata": {
            "tags": []
          },
          "execution_count": 41
        }
      ]
    },
    {
      "metadata": {
        "id": "KtxolvgM4kKM",
        "colab_type": "code",
        "colab": {}
      },
      "cell_type": "code",
      "source": [
        "executives=[' Exec-managerial',' Prof-specialty']\n",
        "Technicians=[' Craft-repair',' Machine-op-inspct',' Other-service',' Armed-Forces']\n",
        "Workers=[' Transport-moving',' Handlers-cleaners',' Farming-fishing',' Protective-serv', ' Priv-house-serv']\n",
        "sales=[' Adm-clerical',' Sales',' Tech-support']\n",
        "unknown=['unknown']\n"
      ],
      "execution_count": 0,
      "outputs": []
    },
    {
      "metadata": {
        "id": "q2VJlivA4mvs",
        "colab_type": "code",
        "colab": {}
      },
      "cell_type": "code",
      "source": [
        "for e in Technicians:\n",
        "    df2.loc[df2['occupation']==e,'Occupation']='Technicians'\n",
        "for e in Workers:\n",
        "    df2.loc[df2['occupation']==e,'Occupation']='Workers'\n",
        "for e in sales:\n",
        "    df2.loc[df2['occupation']==e,'Occupation']='sales'\n",
        "for e in unknown:\n",
        "    df2.loc[df2['occupation']==e,'Occupation']='unknown'"
      ],
      "execution_count": 0,
      "outputs": []
    },
    {
      "metadata": {
        "id": "ClPkbsMv4qAc",
        "colab_type": "code",
        "colab": {
          "base_uri": "https://localhost:8080/",
          "height": 34
        },
        "outputId": "3555261e-92e4-4031-85f3-04179a828023"
      },
      "cell_type": "code",
      "source": [
        "df2['Occupation'].unique()"
      ],
      "execution_count": 44,
      "outputs": [
        {
          "output_type": "execute_result",
          "data": {
            "text/plain": [
              "array(['sales', nan, 'Workers', 'Technicians', 'unknown'], dtype=object)"
            ]
          },
          "metadata": {
            "tags": []
          },
          "execution_count": 44
        }
      ]
    },
    {
      "metadata": {
        "id": "HXDebD224spU",
        "colab_type": "code",
        "colab": {
          "base_uri": "https://localhost:8080/",
          "height": 102
        },
        "outputId": "99e95a6a-6cb7-4144-83aa-5f2feb767ea1"
      },
      "cell_type": "code",
      "source": [
        "df2['Occupation'].value_counts()"
      ],
      "execution_count": 45,
      "outputs": [
        {
          "output_type": "execute_result",
          "data": {
            "text/plain": [
              "Technicians    14072\n",
              "sales          12561\n",
              "Workers         7142\n",
              "unknown         2809\n",
              "Name: Occupation, dtype: int64"
            ]
          },
          "metadata": {
            "tags": []
          },
          "execution_count": 45
        }
      ]
    },
    {
      "metadata": {
        "id": "e7uWxtDB4vFE",
        "colab_type": "code",
        "colab": {
          "base_uri": "https://localhost:8080/",
          "height": 85
        },
        "outputId": "7e1f9710-8e1a-4a96-ff4b-61d0a4cfede0"
      },
      "cell_type": "code",
      "source": [
        "#Race\n",
        "df2['Race']='White'\n",
        "df2.loc[df2['race']==' Black','Race']='Black'\n",
        "\n",
        "df2.loc[df2['race']==' Asian-Pac-Islander','Race']='other'\n",
        "df2.loc[df2['race']==' Amer-Indian-Eskimo','Race']='other'\n",
        "df2.loc[df2['race']==' Other','Race']='other'\n",
        "\n",
        "df2.Race.value_counts()"
      ],
      "execution_count": 46,
      "outputs": [
        {
          "output_type": "execute_result",
          "data": {
            "text/plain": [
              "White    41762\n",
              "Black     4685\n",
              "other     2395\n",
              "Name: Race, dtype: int64"
            ]
          },
          "metadata": {
            "tags": []
          },
          "execution_count": 46
        }
      ]
    },
    {
      "metadata": {
        "id": "_bLkvNYW41u1",
        "colab_type": "code",
        "colab": {
          "base_uri": "https://localhost:8080/",
          "height": 85
        },
        "outputId": "ca5daa62-2e2b-42e5-a72b-7ec36edb9c15"
      },
      "cell_type": "code",
      "source": [
        "#Relationship\n",
        "df2.relationship.value_counts()\n",
        "df2['Relationship']='spouse'\n",
        "#spouse=[' Husband',' Wife']\n",
        "relative=[' Not-in-family',' Other-relative']\n",
        "unmarried=[' Own-child',' Unmarried']\n",
        "\n",
        "\n",
        "for r in relative:\n",
        "    df2.loc[df2['relationship']==r,'Relationship']='Relative'\n",
        "for r in unmarried:\n",
        "    df2.loc[df2['relationship']==r,'Relationship']='unmarried'\n",
        "\n",
        "    \n",
        "df2.Relationship.unique()\n",
        "df2.Relationship.value_counts()\n"
      ],
      "execution_count": 47,
      "outputs": [
        {
          "output_type": "execute_result",
          "data": {
            "text/plain": [
              "spouse       22047\n",
              "Relative     14089\n",
              "unmarried    12706\n",
              "Name: Relationship, dtype: int64"
            ]
          },
          "metadata": {
            "tags": []
          },
          "execution_count": 47
        }
      ]
    },
    {
      "metadata": {
        "id": "K4-AI6IN5EBG",
        "colab_type": "code",
        "colab": {}
      },
      "cell_type": "code",
      "source": [
        "### Native_country\n",
        "df2['native_country'].unique()\n",
        "Europe=[' England',' Germany',' Italy',' Poland',' Portugal',' France',' Yugoslavia',' Scotland',' Greece',' Ireland',' Hungary',' Holand-Netherlands']\n",
        "Asia=[' India',' Iran',' Philippines',' Cambodia',' Thailand',' Taiwan',' China',' Japan',' Vietnam',' Hong',]\n",
        "df2['Native_country']='America'\n",
        "\n",
        "for e in Europe:\n",
        "    df2.loc[df2['native_country']==e,'Native_country']='Europe'\n",
        "\n",
        "for e in Asia:\n",
        "    df2.loc[df2['native_country']==e,'Native_country']='Asia'    \n",
        "\n",
        "df2.loc[df2['native_country']=='unknown','Native_country']='unknown'    \n"
      ],
      "execution_count": 0,
      "outputs": []
    },
    {
      "metadata": {
        "id": "KnRN6FBL5RmP",
        "colab_type": "code",
        "colab": {
          "base_uri": "https://localhost:8080/",
          "height": 102
        },
        "outputId": "920da2ff-0d88-485c-e9f4-fb84c4e57567"
      },
      "cell_type": "code",
      "source": [
        "df2.Native_country.value_counts()\n"
      ],
      "execution_count": 49,
      "outputs": [
        {
          "output_type": "execute_result",
          "data": {
            "text/plain": [
              "America    46247\n",
              "Asia         958\n",
              "unknown      857\n",
              "Europe       780\n",
              "Name: Native_country, dtype: int64"
            ]
          },
          "metadata": {
            "tags": []
          },
          "execution_count": 49
        }
      ]
    },
    {
      "metadata": {
        "id": "VDROLL1c5TiF",
        "colab_type": "code",
        "colab": {
          "base_uri": "https://localhost:8080/",
          "height": 119
        },
        "outputId": "d0496a17-3980-41e4-884b-aa9b1489cf2b"
      },
      "cell_type": "code",
      "source": [
        "df2.columns"
      ],
      "execution_count": 50,
      "outputs": [
        {
          "output_type": "execute_result",
          "data": {
            "text/plain": [
              "Index(['age', 'workclass', 'fnlwgt', 'education', 'education_num',\n",
              "       'marital_status', 'occupation', 'relationship', 'race', 'sex',\n",
              "       'capital_gain', 'capital_loss', 'hours_per_week', 'native_country',\n",
              "       'wage_class', 'data_id', 'Target', 'work_class', 'Marital_status',\n",
              "       'Eductaion', 'Occupation', 'Race', 'Relationship', 'Native_country'],\n",
              "      dtype='object')"
            ]
          },
          "metadata": {
            "tags": []
          },
          "execution_count": 50
        }
      ]
    },
    {
      "metadata": {
        "id": "YMxvGLkp5Wy3",
        "colab_type": "code",
        "colab": {}
      },
      "cell_type": "code",
      "source": [
        "dropped=df2.drop(columns=['workclass','education', 'wage_class','marital_status','occupation','relationship','race','native_country'],axis=1,inplace=True)"
      ],
      "execution_count": 0,
      "outputs": []
    },
    {
      "metadata": {
        "id": "exMOx1fp5ZPv",
        "colab_type": "code",
        "colab": {
          "base_uri": "https://localhost:8080/",
          "height": 85
        },
        "outputId": "ee744536-2f10-4ce5-d035-2629f817703f"
      },
      "cell_type": "code",
      "source": [
        "df2.columns"
      ],
      "execution_count": 52,
      "outputs": [
        {
          "output_type": "execute_result",
          "data": {
            "text/plain": [
              "Index(['age', 'fnlwgt', 'education_num', 'sex', 'capital_gain', 'capital_loss',\n",
              "       'hours_per_week', 'data_id', 'Target', 'work_class', 'Marital_status',\n",
              "       'Eductaion', 'Occupation', 'Race', 'Relationship', 'Native_country'],\n",
              "      dtype='object')"
            ]
          },
          "metadata": {
            "tags": []
          },
          "execution_count": 52
        }
      ]
    },
    {
      "metadata": {
        "id": "3D5Md7Mp5c4R",
        "colab_type": "code",
        "colab": {
          "base_uri": "https://localhost:8080/",
          "height": 224
        },
        "outputId": "898198ae-d0de-4b21-cbad-cd2798a144ca"
      },
      "cell_type": "code",
      "source": [
        "df2.head()"
      ],
      "execution_count": 53,
      "outputs": [
        {
          "output_type": "execute_result",
          "data": {
            "text/html": [
              "<div>\n",
              "<style scoped>\n",
              "    .dataframe tbody tr th:only-of-type {\n",
              "        vertical-align: middle;\n",
              "    }\n",
              "\n",
              "    .dataframe tbody tr th {\n",
              "        vertical-align: top;\n",
              "    }\n",
              "\n",
              "    .dataframe thead th {\n",
              "        text-align: right;\n",
              "    }\n",
              "</style>\n",
              "<table border=\"1\" class=\"dataframe\">\n",
              "  <thead>\n",
              "    <tr style=\"text-align: right;\">\n",
              "      <th></th>\n",
              "      <th>age</th>\n",
              "      <th>fnlwgt</th>\n",
              "      <th>education_num</th>\n",
              "      <th>sex</th>\n",
              "      <th>capital_gain</th>\n",
              "      <th>capital_loss</th>\n",
              "      <th>hours_per_week</th>\n",
              "      <th>data_id</th>\n",
              "      <th>Target</th>\n",
              "      <th>work_class</th>\n",
              "      <th>Marital_status</th>\n",
              "      <th>Eductaion</th>\n",
              "      <th>Occupation</th>\n",
              "      <th>Race</th>\n",
              "      <th>Relationship</th>\n",
              "      <th>Native_country</th>\n",
              "    </tr>\n",
              "  </thead>\n",
              "  <tbody>\n",
              "    <tr>\n",
              "      <th>0</th>\n",
              "      <td>39</td>\n",
              "      <td>77516</td>\n",
              "      <td>13</td>\n",
              "      <td>Male</td>\n",
              "      <td>2174</td>\n",
              "      <td>0</td>\n",
              "      <td>40</td>\n",
              "      <td>1</td>\n",
              "      <td>0</td>\n",
              "      <td>Gov_job</td>\n",
              "      <td>Single</td>\n",
              "      <td>Bachelors</td>\n",
              "      <td>sales</td>\n",
              "      <td>White</td>\n",
              "      <td>Relative</td>\n",
              "      <td>America</td>\n",
              "    </tr>\n",
              "    <tr>\n",
              "      <th>1</th>\n",
              "      <td>50</td>\n",
              "      <td>83311</td>\n",
              "      <td>13</td>\n",
              "      <td>Male</td>\n",
              "      <td>0</td>\n",
              "      <td>0</td>\n",
              "      <td>13</td>\n",
              "      <td>1</td>\n",
              "      <td>0</td>\n",
              "      <td>self_emp</td>\n",
              "      <td>Married</td>\n",
              "      <td>Bachelors</td>\n",
              "      <td>NaN</td>\n",
              "      <td>White</td>\n",
              "      <td>spouse</td>\n",
              "      <td>America</td>\n",
              "    </tr>\n",
              "    <tr>\n",
              "      <th>2</th>\n",
              "      <td>38</td>\n",
              "      <td>215646</td>\n",
              "      <td>9</td>\n",
              "      <td>Male</td>\n",
              "      <td>0</td>\n",
              "      <td>0</td>\n",
              "      <td>40</td>\n",
              "      <td>1</td>\n",
              "      <td>0</td>\n",
              "      <td>Private</td>\n",
              "      <td>Separated</td>\n",
              "      <td>&lt;HS grad</td>\n",
              "      <td>Workers</td>\n",
              "      <td>White</td>\n",
              "      <td>Relative</td>\n",
              "      <td>America</td>\n",
              "    </tr>\n",
              "    <tr>\n",
              "      <th>3</th>\n",
              "      <td>53</td>\n",
              "      <td>234721</td>\n",
              "      <td>7</td>\n",
              "      <td>Male</td>\n",
              "      <td>0</td>\n",
              "      <td>0</td>\n",
              "      <td>40</td>\n",
              "      <td>1</td>\n",
              "      <td>0</td>\n",
              "      <td>Private</td>\n",
              "      <td>Married</td>\n",
              "      <td>&lt;HS grad</td>\n",
              "      <td>Workers</td>\n",
              "      <td>Black</td>\n",
              "      <td>spouse</td>\n",
              "      <td>America</td>\n",
              "    </tr>\n",
              "    <tr>\n",
              "      <th>4</th>\n",
              "      <td>28</td>\n",
              "      <td>338409</td>\n",
              "      <td>13</td>\n",
              "      <td>Female</td>\n",
              "      <td>0</td>\n",
              "      <td>0</td>\n",
              "      <td>40</td>\n",
              "      <td>1</td>\n",
              "      <td>0</td>\n",
              "      <td>Private</td>\n",
              "      <td>Married</td>\n",
              "      <td>Bachelors</td>\n",
              "      <td>NaN</td>\n",
              "      <td>Black</td>\n",
              "      <td>spouse</td>\n",
              "      <td>America</td>\n",
              "    </tr>\n",
              "  </tbody>\n",
              "</table>\n",
              "</div>"
            ],
            "text/plain": [
              "   age  fnlwgt  education_num      sex  capital_gain  capital_loss  \\\n",
              "0   39   77516             13     Male          2174             0   \n",
              "1   50   83311             13     Male             0             0   \n",
              "2   38  215646              9     Male             0             0   \n",
              "3   53  234721              7     Male             0             0   \n",
              "4   28  338409             13   Female             0             0   \n",
              "\n",
              "   hours_per_week  data_id  Target work_class Marital_status  Eductaion  \\\n",
              "0              40        1       0    Gov_job         Single  Bachelors   \n",
              "1              13        1       0   self_emp        Married  Bachelors   \n",
              "2              40        1       0    Private      Separated   <HS grad   \n",
              "3              40        1       0    Private        Married   <HS grad   \n",
              "4              40        1       0    Private        Married  Bachelors   \n",
              "\n",
              "  Occupation   Race Relationship Native_country  \n",
              "0      sales  White     Relative        America  \n",
              "1        NaN  White       spouse        America  \n",
              "2    Workers  White     Relative        America  \n",
              "3    Workers  Black       spouse        America  \n",
              "4        NaN  Black       spouse        America  "
            ]
          },
          "metadata": {
            "tags": []
          },
          "execution_count": 53
        }
      ]
    },
    {
      "metadata": {
        "id": "YA000rOI5ix-",
        "colab_type": "code",
        "colab": {}
      },
      "cell_type": "code",
      "source": [
        "#Label encoder for column sex\n",
        "\n",
        "\n",
        "from sklearn.preprocessing import LabelEncoder\n",
        "le=LabelEncoder()\n",
        "le.fit(df2['sex'])\n",
        "df2['sex']=le.transform(df2['sex']) #tranforming train and test data\n",
        "#test_data[col]=le.transform(test_data[col])"
      ],
      "execution_count": 0,
      "outputs": []
    },
    {
      "metadata": {
        "id": "diM5DsZz5sSF",
        "colab_type": "code",
        "colab": {
          "base_uri": "https://localhost:8080/",
          "height": 85
        },
        "outputId": "3d78513e-42f2-4f4b-fca2-0e5673451fa9"
      },
      "cell_type": "code",
      "source": [
        "df2.columns"
      ],
      "execution_count": 55,
      "outputs": [
        {
          "output_type": "execute_result",
          "data": {
            "text/plain": [
              "Index(['age', 'fnlwgt', 'education_num', 'sex', 'capital_gain', 'capital_loss',\n",
              "       'hours_per_week', 'data_id', 'Target', 'work_class', 'Marital_status',\n",
              "       'Eductaion', 'Occupation', 'Race', 'Relationship', 'Native_country'],\n",
              "      dtype='object')"
            ]
          },
          "metadata": {
            "tags": []
          },
          "execution_count": 55
        }
      ]
    },
    {
      "metadata": {
        "id": "hkAWDPQO5vgs",
        "colab_type": "code",
        "colab": {}
      },
      "cell_type": "code",
      "source": [
        "cat_cols=['work_class','Marital_status','Eductaion','Occupation','Race','Relationship','Native_country']"
      ],
      "execution_count": 0,
      "outputs": []
    },
    {
      "metadata": {
        "id": "sNp6CzaJ50kF",
        "colab_type": "code",
        "colab": {}
      },
      "cell_type": "code",
      "source": [
        "\n",
        "dummies=pd.get_dummies(df2['Race'],prefix='Race')\n",
        "df2 = df2.join(dummies)\n",
        "#df2 = df2.drop(df2['Race'], axis = 1)"
      ],
      "execution_count": 0,
      "outputs": []
    },
    {
      "metadata": {
        "id": "LU6ScxccGQc0",
        "colab_type": "code",
        "colab": {}
      },
      "cell_type": "code",
      "source": [
        ""
      ],
      "execution_count": 0,
      "outputs": []
    },
    {
      "metadata": {
        "id": "KOZ-_7gp54Aa",
        "colab_type": "code",
        "colab": {}
      },
      "cell_type": "code",
      "source": [
        "dummies=pd.get_dummies(df2['Native_country'],prefix='Country')\n",
        "df2 = df2.join(dummies)"
      ],
      "execution_count": 0,
      "outputs": []
    },
    {
      "metadata": {
        "id": "8bKibEZw9TQN",
        "colab_type": "code",
        "colab": {}
      },
      "cell_type": "code",
      "source": [
        "dummies=pd.get_dummies(df2['Relationship'],prefix='Relation')\n",
        "df2 = df2.join(dummies)"
      ],
      "execution_count": 0,
      "outputs": []
    },
    {
      "metadata": {
        "id": "5upnvC5I9ZR4",
        "colab_type": "code",
        "colab": {}
      },
      "cell_type": "code",
      "source": [
        "dummies=pd.get_dummies(df2['work_class'],prefix='work')\n",
        "df2 = df2.join(dummies)"
      ],
      "execution_count": 0,
      "outputs": []
    },
    {
      "metadata": {
        "id": "GUiwgdg9-Gpe",
        "colab_type": "code",
        "colab": {}
      },
      "cell_type": "code",
      "source": [
        "dummies=pd.get_dummies(df2['Eductaion'],prefix='edu')\n",
        "df2 = df2.join(dummies)"
      ],
      "execution_count": 0,
      "outputs": []
    },
    {
      "metadata": {
        "id": "VUzfYCgU-G6c",
        "colab_type": "code",
        "colab": {}
      },
      "cell_type": "code",
      "source": [
        "dummies=pd.get_dummies(df2['Marital_status'],prefix='status')\n",
        "df2 = df2.join(dummies)"
      ],
      "execution_count": 0,
      "outputs": []
    },
    {
      "metadata": {
        "id": "17fHP1mn-G80",
        "colab_type": "code",
        "colab": {}
      },
      "cell_type": "code",
      "source": [
        "dummies=pd.get_dummies(df2['Occupation'],prefix='Occupation')\n",
        "df2 = df2.join(dummies)"
      ],
      "execution_count": 0,
      "outputs": []
    }
  ]
}